{
  "nbformat": 4,
  "nbformat_minor": 0,
  "metadata": {
    "colab": {
      "provenance": [],
      "toc_visible": true
    },
    "kernelspec": {
      "name": "python3",
      "display_name": "Python 3"
    },
    "language_info": {
      "name": "python"
    }
  },
  "cells": [
    {
      "cell_type": "code",
      "execution_count": null,
      "metadata": {
        "id": "ZVUHK2wvuZpG"
      },
      "outputs": [],
      "source": [
        "import pandas as pd"
      ]
    },
    {
      "cell_type": "markdown",
      "source": [
        "## *Carga de datos*"
      ],
      "metadata": {
        "id": "To1puONX72Sb"
      }
    },
    {
      "cell_type": "markdown",
      "source": [
        "En este paso cargamos las tablas que queremos comparar"
      ],
      "metadata": {
        "id": "NYdFHQubLirr"
      }
    },
    {
      "cell_type": "code",
      "source": [
        "# Montar Google Drive\n",
        "from google.colab import drive\n",
        "drive.mount('/content/drive')"
      ],
      "metadata": {
        "colab": {
          "base_uri": "https://localhost:8080/"
        },
        "id": "gorQZJpYvQkm",
        "outputId": "4de211f4-f56d-4830-9b9a-d4a773287227"
      },
      "execution_count": 52,
      "outputs": [
        {
          "output_type": "stream",
          "name": "stdout",
          "text": [
            "Drive already mounted at /content/drive; to attempt to forcibly remount, call drive.mount(\"/content/drive\", force_remount=True).\n"
          ]
        }
      ]
    },
    {
      "cell_type": "code",
      "source": [
        "# Ruta de las planillas (ajusta según las ubicaciones en tu Drive)\n",
        "ruta_alumnos = '/content/drive/My Drive/Inscripciones_2025/Planilla_Alumnos.xlsx'\n",
        "ruta_bienestar = '/content/drive/My Drive/Inscripciones_2025/Planilla_Bienestar.xlsx'"
      ],
      "metadata": {
        "id": "uBqr09KE0Dsc"
      },
      "execution_count": 54,
      "outputs": []
    },
    {
      "cell_type": "code",
      "source": [
        "# Cargar las planillas en DataFrames\n",
        "alumnos_df = pd.read_excel(ruta_alumnos)\n",
        "bienestar_df = pd.read_excel(ruta_bienestar)"
      ],
      "metadata": {
        "id": "8xSjePV0vf26"
      },
      "execution_count": 55,
      "outputs": []
    },
    {
      "cell_type": "markdown",
      "source": [
        "## *Limpieza de datos*"
      ],
      "metadata": {
        "id": "IseTg6hr8RY1"
      }
    },
    {
      "cell_type": "markdown",
      "source": [
        "En este paso, buscamos eliminar espacios en las celdas y convertir todo a minúsculas o mayúsculas"
      ],
      "metadata": {
        "id": "U0gg7rr6Ltag"
      }
    },
    {
      "cell_type": "code",
      "source": [
        "# Eliminar espacios iniciales y finales en todas las celdas de 'Apellido' y 'Nombre'\n",
        "alumnos_df['Apellido'] = alumnos_df['Apellido'].str.strip()\n",
        "alumnos_df['Nombre'] = alumnos_df['Nombre'].str.strip()\n",
        "\n",
        "bienestar_df['Apellido'] = bienestar_df['Apellido'].str.strip()\n",
        "bienestar_df['Nombre'] = bienestar_df['Nombre'].str.strip()"
      ],
      "metadata": {
        "id": "Qxxr6QzA6FNX"
      },
      "execution_count": 56,
      "outputs": []
    },
    {
      "cell_type": "code",
      "source": [
        "# Convertir todo a minúsculas para evitar problemas de mayúsculas/minúsculas\n",
        "alumnos_df['Apellido'] = alumnos_df['Apellido'].str.lower()\n",
        "alumnos_df['Nombre'] = alumnos_df['Nombre'].str.lower()\n",
        "bienestar_df['Apellido'] = bienestar_df['Apellido'].str.lower()\n",
        "bienestar_df['Nombre'] = bienestar_df['Nombre'].str.lower()"
      ],
      "metadata": {
        "id": "KO0K5qN-699N"
      },
      "execution_count": 57,
      "outputs": []
    },
    {
      "cell_type": "code",
      "source": [
        "# Asegurarnos de que las columnas de comparación tengan nombres consistentes\n",
        "# Por ejemplo: \"Apellido\", \"Nombre\" y \"Correo\"\n",
        "alumnos_df.columns = alumnos_df.columns.str.strip()\n",
        "bienestar_df.columns = bienestar_df.columns.str.strip()"
      ],
      "metadata": {
        "id": "Oj7Yr6Ptvsvj"
      },
      "execution_count": 58,
      "outputs": []
    },
    {
      "cell_type": "markdown",
      "source": [
        "# Estudio de datos"
      ],
      "metadata": {
        "id": "-hSSblo68jx-"
      }
    },
    {
      "cell_type": "code",
      "source": [
        "# Crear sets con los correos electrónicos\n",
        "alumnos_set = set(alumnos_df['Correo'])\n",
        "bienestar_set = set(bienestar_df['Correo'])\n",
        "\n",
        "# Correos que están en Planilla_Alumnos pero no en Planilla_Bienestar\n",
        "solo_en_alumnos = alumnos_df[~alumnos_df['Correo'].isin(bienestar_set)]\n",
        "\n",
        "# Correos que están en Planilla_Bienestar pero no en Planilla_Alumnos\n",
        "solo_en_bienestar = bienestar_df[~bienestar_df['Correo'].isin(alumnos_set)]"
      ],
      "metadata": {
        "id": "OhMtXsRi8uk3"
      },
      "execution_count": 75,
      "outputs": []
    },
    {
      "cell_type": "code",
      "source": [
        "# Limpiar los correos electrónicos (minúsculas y sin espacios)\n",
        "alumnos_df['Correo'] = alumnos_df['Correo'].str.strip().str.lower()\n",
        "bienestar_df['Correo'] = bienestar_df['Correo'].str.strip().str.lower()"
      ],
      "metadata": {
        "id": "OuNSGMNx869i"
      },
      "execution_count": 76,
      "outputs": []
    },
    {
      "cell_type": "code",
      "source": [
        "# Verificar los primeros registros\n",
        "print(\"Alumnos solo en Planilla_Alumnos:\")\n",
        "print(solo_en_alumnos.head())\n",
        "\n",
        "print(\"Alumnos solo en Planilla_Bienestar:\")\n",
        "print(solo_en_bienestar.head())"
      ],
      "metadata": {
        "colab": {
          "base_uri": "https://localhost:8080/"
        },
        "id": "FvK4xpnS89ol",
        "outputId": "8d49b8bb-8a9a-4941-9146-5197828aea7f"
      },
      "execution_count": 77,
      "outputs": [
        {
          "output_type": "stream",
          "name": "stdout",
          "text": [
            "Alumnos solo en Planilla_Alumnos:\n",
            "                     Apellido         Nombre                         Correo\n",
            "0                      alaniz         yanina      yanina_natali@hotmail.com\n",
            "1  alvarez de olivera dorrego    juan martin          juanmanox06@gmail.com\n",
            "4                    arequipa         leonel      leonelarequipa3@gmail.com\n",
            "5                       arias  candela aylén          candespam53@gmail.com\n",
            "6                   asselborn       victoria  asselbornvictoria17@gmail.com\n",
            "Alumnos solo en Planilla_Bienestar:\n",
            "    Apellido               Nombre                       Correo\n",
            "3    aramayo       luciano daniel   lucianoaramayo06@gmail.com\n",
            "4      arias        candela aylén       candearias29@gmail.com\n",
            "8   betancud       dulce victoria      betancuddulce@gmail.com\n",
            "13   cabrera       cynthia denise      cabreracyn200@gmail.com\n",
            "21       cos  jaime daniel flavio  jaimedanielflavio@gmail.com\n"
          ]
        }
      ]
    },
    {
      "cell_type": "code",
      "source": [
        "# Correos que están en Planilla_Alumnos pero no en Planilla_Bienestar\n",
        "solo_en_alumnos = alumnos_df[~alumnos_df['Correo'].isin(bienestar_set)]"
      ],
      "metadata": {
        "id": "uzukx5D9-Trl"
      },
      "execution_count": 78,
      "outputs": []
    },
    {
      "cell_type": "code",
      "source": [
        "# Correos que están en Planilla_Bienestar pero no en Planilla_Alumnos\n",
        "solo_en_bienestar = bienestar_df[~bienestar_df['Correo'].isin(alumnos_set)]"
      ],
      "metadata": {
        "id": "Mrd6CHSD-VoW"
      },
      "execution_count": 79,
      "outputs": []
    },
    {
      "cell_type": "code",
      "source": [
        "# Mostrar todos los resultados\n",
        "print(\"Correos solo en Planilla_Alumnos:\")\n",
        "print(solo_en_alumnos)\n",
        "\n",
        "print(\"\\nCorreos solo en Planilla_Bienestar:\")\n",
        "print(solo_en_bienestar)"
      ],
      "metadata": {
        "colab": {
          "base_uri": "https://localhost:8080/"
        },
        "id": "wOHsP7PY-cmh",
        "outputId": "9210a4f1-5a36-4713-b505-8ced09a62d9a"
      },
      "execution_count": 80,
      "outputs": [
        {
          "output_type": "stream",
          "name": "stdout",
          "text": [
            "Correos solo en Planilla_Alumnos:\n",
            "                       Apellido         Nombre                         Correo\n",
            "0                        alaniz         yanina      yanina_natali@hotmail.com\n",
            "1    alvarez de olivera dorrego    juan martin          juanmanox06@gmail.com\n",
            "4                      arequipa         leonel      leonelarequipa3@gmail.com\n",
            "5                         arias  candela aylén          candespam53@gmail.com\n",
            "6                     asselborn       victoria  asselbornvictoria17@gmail.com\n",
            "..                          ...            ...                            ...\n",
            "248                     ferraro   lucas andrés     lucasferraro11@hotmail.com\n",
            "250                     gamarra           axel        axelgamarra16@gmail.com\n",
            "256                       ochoa        lorenzo         lorenzolihue@gmail.com\n",
            "259                paez morales   mara julieta     mara.paezmorales@gmail.com\n",
            "267                   torrekens        martina        m4r.ssnewonce@gmail.com\n",
            "\n",
            "[114 rows x 3 columns]\n",
            "\n",
            "Correos solo en Planilla_Bienestar:\n",
            "              Apellido               Nombre  \\\n",
            "3              aramayo       luciano daniel   \n",
            "4                arias        candela aylén   \n",
            "8             betancud       dulce victoria   \n",
            "13             cabrera       cynthia denise   \n",
            "21                 cos  jaime daniel flavio   \n",
            "26              farias      débora gabriela   \n",
            "27             ferraro         lucas andres   \n",
            "36    kropff achucarro           josé maría   \n",
            "41         marin perez   fernanda ernestina   \n",
            "46             montero                abril   \n",
            "50               nieto      zazali gabriela   \n",
            "57     pizarro vazzano       elisa agustina   \n",
            "61               reyes    jacqueline gisela   \n",
            "62               seijo                 iván   \n",
            "64                soto              facundo   \n",
            "68           viceconti    alejandro alberto   \n",
            "69          wusinowski      milagros daiana   \n",
            "70              zapata     cristian nicolas   \n",
            "74              ayoroa                 juan   \n",
            "86          diez ramos         luis ernesto   \n",
            "94               gomez       jessica noelia   \n",
            "102              lópez      micaela stefani   \n",
            "106  maldonado marcano    gabriel alejandro   \n",
            "135          torrekens              martina   \n",
            "143              acuña   guadalupe gianella   \n",
            "156               copa        vanesa jazmin   \n",
            "158          fernandez     agustina mariana   \n",
            "160            galarza      adrian ezequiel   \n",
            "173              merlo               julian   \n",
            "176          naumionok            valentina   \n",
            "178              perla               adrian   \n",
            "179          petroccia      gaston federico   \n",
            "180         provenzano               d. dan   \n",
            "185              rolón             ezequiel   \n",
            "187            sanchís            ana lucía   \n",
            "190    tejerina mamani        leonel alexis   \n",
            "191            toconas   jonathan sebastian   \n",
            "194            zenteno       natalia selena   \n",
            "\n",
            "                                    Correo  \n",
            "3               lucianoaramayo06@gmail.com  \n",
            "4                   candearias29@gmail.com  \n",
            "8                  betancuddulce@gmail.com  \n",
            "13                 cabreracyn200@gmail.com  \n",
            "21             jaimedanielflavio@gmail.com  \n",
            "26               farias.debora24@gmail.com  \n",
            "27                lucasferraro93@gmail.com  \n",
            "36               josemariakropff@gmail.com  \n",
            "41   fernandaernestinamarinperez@gmail.com  \n",
            "46               bixhokanasto666@gmail.com  \n",
            "50                    zazalita12@gmail.com  \n",
            "57               elisapizarro007@gmail.com  \n",
            "61             jacquelinereyesok@gmail.com  \n",
            "62                     seijoivan@gmail.com  \n",
            "64                sotofacundo657@gmail.com  \n",
            "68                     alerix449@gmail.com  \n",
            "69              miliwusinowski01@gmail.com  \n",
            "70             cristiannicolaszp@gmail.com  \n",
            "74             juanignacioayoroa@gmail.com  \n",
            "86                  luis08012016@gmail.com  \n",
            "94                   noelia-_13@hotmail.es  \n",
            "102                 micaloopez08@gmail.com  \n",
            "106                 gabommarcano@gmail.com  \n",
            "135             torrekensmartina@gmail.com  \n",
            "143                acunaguada448@gmail.com  \n",
            "156                 pazjazmin150@gmail.com  \n",
            "158                   agusmafer1@gmail.com  \n",
            "160               galarzaadriann@gmail.com  \n",
            "173                 julianmerlof@gmail.com  \n",
            "176             valentinanaumiok@gmail.com  \n",
            "178               perlaadrian753@gmail.com  \n",
            "179                     zeta_ve1@yahoo.com  \n",
            "180                     pr0d4wk4@gmail.com  \n",
            "185                    ezedm803k@gmail.com  \n",
            "187                 flordeanis34@gmail.com  \n",
            "190             leoneltejerina52@gmail.com  \n",
            "191             toconasjonat1984@gmail.com  \n",
            "194                nataliazent02@gmail.com  \n"
          ]
        }
      ]
    },
    {
      "cell_type": "code",
      "source": [
        "# Guardar los resultados en archivos Excel si es necesario\n",
        "solo_en_alumnos.to_excel('solo_en_alumnos_por_correo.xlsx', index=False)\n",
        "solo_en_bienestar.to_excel('solo_en_bienestar_por_correo.xlsx', index=False)\n",
        "\n",
        "print(\"Archivos de salida creados: solo_en_alumnos_por_correo.xlsx y solo_en_bienestar_por_correo.xlsx\")"
      ],
      "metadata": {
        "colab": {
          "base_uri": "https://localhost:8080/"
        },
        "id": "JMBlR2fI-t-m",
        "outputId": "e5dd3a20-3dd8-48be-a264-52582ff1f591"
      },
      "execution_count": 81,
      "outputs": [
        {
          "output_type": "stream",
          "name": "stdout",
          "text": [
            "Archivos de salida creados: solo_en_alumnos_por_correo.xlsx y solo_en_bienestar_por_correo.xlsx\n"
          ]
        }
      ]
    },
    {
      "cell_type": "code",
      "source": [
        "from google.colab import files\n",
        "\n",
        "# Descargar los archivos creados\n",
        "files.download('solo_en_alumnos_por_correo.xlsx')\n",
        "files.download('solo_en_bienestar_por_correo.xlsx')"
      ],
      "metadata": {
        "colab": {
          "base_uri": "https://localhost:8080/",
          "height": 17
        },
        "id": "HGx3jFeiOFlT",
        "outputId": "642a3ef7-0361-4821-b4d4-31137ee56377"
      },
      "execution_count": 83,
      "outputs": [
        {
          "output_type": "display_data",
          "data": {
            "text/plain": [
              "<IPython.core.display.Javascript object>"
            ],
            "application/javascript": [
              "\n",
              "    async function download(id, filename, size) {\n",
              "      if (!google.colab.kernel.accessAllowed) {\n",
              "        return;\n",
              "      }\n",
              "      const div = document.createElement('div');\n",
              "      const label = document.createElement('label');\n",
              "      label.textContent = `Downloading \"${filename}\": `;\n",
              "      div.appendChild(label);\n",
              "      const progress = document.createElement('progress');\n",
              "      progress.max = size;\n",
              "      div.appendChild(progress);\n",
              "      document.body.appendChild(div);\n",
              "\n",
              "      const buffers = [];\n",
              "      let downloaded = 0;\n",
              "\n",
              "      const channel = await google.colab.kernel.comms.open(id);\n",
              "      // Send a message to notify the kernel that we're ready.\n",
              "      channel.send({})\n",
              "\n",
              "      for await (const message of channel.messages) {\n",
              "        // Send a message to notify the kernel that we're ready.\n",
              "        channel.send({})\n",
              "        if (message.buffers) {\n",
              "          for (const buffer of message.buffers) {\n",
              "            buffers.push(buffer);\n",
              "            downloaded += buffer.byteLength;\n",
              "            progress.value = downloaded;\n",
              "          }\n",
              "        }\n",
              "      }\n",
              "      const blob = new Blob(buffers, {type: 'application/binary'});\n",
              "      const a = document.createElement('a');\n",
              "      a.href = window.URL.createObjectURL(blob);\n",
              "      a.download = filename;\n",
              "      div.appendChild(a);\n",
              "      a.click();\n",
              "      div.remove();\n",
              "    }\n",
              "  "
            ]
          },
          "metadata": {}
        },
        {
          "output_type": "display_data",
          "data": {
            "text/plain": [
              "<IPython.core.display.Javascript object>"
            ],
            "application/javascript": [
              "download(\"download_7e6d834b-004e-4dd3-b5c0-7fb9b36f48c1\", \"solo_en_alumnos_por_correo.xlsx\", 8430)"
            ]
          },
          "metadata": {}
        },
        {
          "output_type": "display_data",
          "data": {
            "text/plain": [
              "<IPython.core.display.Javascript object>"
            ],
            "application/javascript": [
              "\n",
              "    async function download(id, filename, size) {\n",
              "      if (!google.colab.kernel.accessAllowed) {\n",
              "        return;\n",
              "      }\n",
              "      const div = document.createElement('div');\n",
              "      const label = document.createElement('label');\n",
              "      label.textContent = `Downloading \"${filename}\": `;\n",
              "      div.appendChild(label);\n",
              "      const progress = document.createElement('progress');\n",
              "      progress.max = size;\n",
              "      div.appendChild(progress);\n",
              "      document.body.appendChild(div);\n",
              "\n",
              "      const buffers = [];\n",
              "      let downloaded = 0;\n",
              "\n",
              "      const channel = await google.colab.kernel.comms.open(id);\n",
              "      // Send a message to notify the kernel that we're ready.\n",
              "      channel.send({})\n",
              "\n",
              "      for await (const message of channel.messages) {\n",
              "        // Send a message to notify the kernel that we're ready.\n",
              "        channel.send({})\n",
              "        if (message.buffers) {\n",
              "          for (const buffer of message.buffers) {\n",
              "            buffers.push(buffer);\n",
              "            downloaded += buffer.byteLength;\n",
              "            progress.value = downloaded;\n",
              "          }\n",
              "        }\n",
              "      }\n",
              "      const blob = new Blob(buffers, {type: 'application/binary'});\n",
              "      const a = document.createElement('a');\n",
              "      a.href = window.URL.createObjectURL(blob);\n",
              "      a.download = filename;\n",
              "      div.appendChild(a);\n",
              "      a.click();\n",
              "      div.remove();\n",
              "    }\n",
              "  "
            ]
          },
          "metadata": {}
        },
        {
          "output_type": "display_data",
          "data": {
            "text/plain": [
              "<IPython.core.display.Javascript object>"
            ],
            "application/javascript": [
              "download(\"download_d0e04620-9538-460e-bab8-7d74f9d9ae30\", \"solo_en_bienestar_por_correo.xlsx\", 6222)"
            ]
          },
          "metadata": {}
        }
      ]
    },
    {
      "cell_type": "markdown",
      "source": [
        "# Estudio de dos nuevas tablas\n"
      ],
      "metadata": {
        "id": "fwBQDKzHOk2y"
      }
    },
    {
      "cell_type": "code",
      "source": [
        "# Cargar las tablas desde los archivos Excel\n",
        "alumnos_df = pd.read_excel('solo_en_alumnos_por_correo.xlsx')\n",
        "bienestar_df = pd.read_excel('solo_en_bienestar_por_correo.xlsx')"
      ],
      "metadata": {
        "id": "jCx4mQ4OPc8N"
      },
      "execution_count": 84,
      "outputs": []
    },
    {
      "cell_type": "code",
      "source": [
        "# Filtrar solo la columna \"Apellido\" de cada tabla\n",
        "apellidos_alumnos = alumnos_df[['Apellido']]\n",
        "apellidos_bienestar = bienestar_df[['Apellido']]"
      ],
      "metadata": {
        "id": "8-BmMZdtTW4s"
      },
      "execution_count": 89,
      "outputs": []
    },
    {
      "cell_type": "code",
      "source": [
        "# Comparar los apellidos entre las dos tablas\n",
        "apellidos_comunes = pd.merge(apellidos_alumnos, apellidos_bienestar, on='Apellido', how='inner')\n",
        "# Obtener los apellidos comunes como una lista\n",
        "apellidos_comunes_lista = apellidos_comunes['Apellido'].unique()\n",
        "\n",
        "# Filtrar los registros en Planilla_Alumnos que tienen apellidos comunes\n",
        "registros_alumnos_comunes = alumnos_df[alumnos_df['Apellido'].isin(apellidos_comunes_lista)]\n",
        "\n",
        "# Filtrar los registros en Planilla_Bienestar que tienen apellidos comunes\n",
        "registros_bienestar_comunes = bienestar_df[bienestar_df['Apellido'].isin(apellidos_comunes_lista)]\n",
        "\n",
        "# Mostrar los registros con apellidos comunes\n",
        "print(\"Registros de Planilla_Alumnos con apellidos comunes:\")\n",
        "print(registros_alumnos_comunes)\n",
        "\n",
        "print(\"\\nRegistros de Planilla_Bienestar con apellidos comunes:\")\n",
        "print(registros_bienestar_comunes)"
      ],
      "metadata": {
        "colab": {
          "base_uri": "https://localhost:8080/"
        },
        "id": "sK7uIOxIS19j",
        "outputId": "b6be6005-73f0-4a90-a490-fc30233634b5"
      },
      "execution_count": 91,
      "outputs": [
        {
          "output_type": "stream",
          "name": "stdout",
          "text": [
            "Registros de Planilla_Alumnos con apellidos comunes:\n",
            "              Apellido             Nombre                             Correo\n",
            "3                arias      candela aylén              candespam53@gmail.com\n",
            "15              farias             débora            debiifarias06@gmail.com\n",
            "31   maldonado marcano  gabriel maldonado               gaboel2005@gmail.com\n",
            "33               merlo             julián           julianmerlo243@gmail.com\n",
            "39           naumionok          valentina       valentinanaumionok@gmail.com\n",
            "49           petroccia    gaston federico              zeta_ve1@yahoo.com.ar\n",
            "50          provenzano                dan      dany_traducing@hotmail.com.ar\n",
            "53               reyes  gisela jacqueline                  gise8ar@gmail.com\n",
            "74           fernandez                dan            caubetanabela@gmail.com\n",
            "77             galarza             adrian  galarza.adrian.ezequiel@gmail.com\n",
            "94               perla             adrian              c14adrian@hotmail.com\n",
            "109            ferraro       lucas andrés         lucasferraro11@hotmail.com\n",
            "113          torrekens            martina            m4r.ssnewonce@gmail.com\n",
            "\n",
            "Registros de Planilla_Bienestar con apellidos comunes:\n",
            "             Apellido             Nombre                       Correo\n",
            "1               arias      candela aylén       candearias29@gmail.com\n",
            "5              farias    débora gabriela    farias.debora24@gmail.com\n",
            "6             ferraro       lucas andres     lucasferraro93@gmail.com\n",
            "12              reyes  jacqueline gisela  jacquelinereyesok@gmail.com\n",
            "22  maldonado marcano  gabriel alejandro       gabommarcano@gmail.com\n",
            "23          torrekens            martina   torrekensmartina@gmail.com\n",
            "26          fernandez   agustina mariana         agusmafer1@gmail.com\n",
            "27            galarza    adrian ezequiel     galarzaadriann@gmail.com\n",
            "28              merlo             julian       julianmerlof@gmail.com\n",
            "29          naumionok          valentina   valentinanaumiok@gmail.com\n",
            "30              perla             adrian     perlaadrian753@gmail.com\n",
            "31          petroccia    gaston federico           zeta_ve1@yahoo.com\n",
            "32         provenzano             d. dan           pr0d4wk4@gmail.com\n"
          ]
        }
      ]
    },
    {
      "cell_type": "code",
      "source": [
        "# Lista de apellidos a excluir (por ejemplo, los apellidos que ya eliminaste)\n",
        "apellidos_a_excluir = ['arias', 'farias', 'maldonado marcano','merlo','naumionok','petroccia','provenzano','reyes','galarza','perla','ferraro','torrekens']"
      ],
      "metadata": {
        "id": "_X-2a3e5UWyI"
      },
      "execution_count": 92,
      "outputs": []
    },
    {
      "cell_type": "code",
      "source": [
        "# Filtrar las filas en Planilla_Alumnos para excluir los apellidos a eliminar\n",
        "alumnos_filtrados = alumnos_df[~alumnos_df['Apellido'].isin(apellidos_a_excluir)]\n",
        "# Filtrar las filas en Planilla_Bienestar para excluir los apellidos a eliminar\n",
        "bienestar_filtrados = bienestar_df[~bienestar_df['Apellido'].isin(apellidos_a_excluir)]"
      ],
      "metadata": {
        "id": "P2ehnC43Zj-3"
      },
      "execution_count": 93,
      "outputs": []
    },
    {
      "cell_type": "code",
      "source": [
        "# Mostrar las tablas filtradas\n",
        "print(\"Planilla de Alumnos filtrada:\")\n",
        "print(alumnos_filtrados)\n",
        "\n",
        "print(\"\\nPlanilla de Bienestar filtrada:\")\n",
        "print(bienestar_filtrados)\n",
        "\n",
        "# Guardar las tablas filtradas en archivos Excel\n",
        "alumnos_filtrados.to_excel('solo_en_alumnos_filtrados.xlsx', index=False)\n",
        "bienestar_filtrados.to_excel('solo_en_bienestar_filtrados.xlsx', index=False)\n",
        "\n",
        "print(\"\\nArchivos de salida creados: solo_en_alumnos_filtrados.xlsx y solo_en_bienestar_filtrados.xlsx\")"
      ],
      "metadata": {
        "colab": {
          "base_uri": "https://localhost:8080/"
        },
        "id": "mTzGTMknZtgv",
        "outputId": "b1c4cc42-4360-4fe8-b427-6cee6de91025"
      },
      "execution_count": 94,
      "outputs": [
        {
          "output_type": "stream",
          "name": "stdout",
          "text": [
            "Planilla de Alumnos filtrada:\n",
            "                       Apellido        Nombre                         Correo\n",
            "0                        alaniz        yanina      yanina_natali@hotmail.com\n",
            "1    alvarez de olivera dorrego   juan martin          juanmanox06@gmail.com\n",
            "2                      arequipa        leonel      leonelarequipa3@gmail.com\n",
            "4                     asselborn      victoria  asselbornvictoria17@gmail.com\n",
            "5                          baez          eros       baezerosdaniel@gmail.com\n",
            "..                          ...           ...                            ...\n",
            "107               bulus peñalva        ariana          ariana.ijme@gmail.com\n",
            "108            delvalle caceres       soledad          soledaddc17@gmail.com\n",
            "110                     gamarra          axel        axelgamarra16@gmail.com\n",
            "111                       ochoa       lorenzo         lorenzolihue@gmail.com\n",
            "112                paez morales  mara julieta     mara.paezmorales@gmail.com\n",
            "\n",
            "[102 rows x 3 columns]\n",
            "\n",
            "Planilla de Bienestar filtrada:\n",
            "            Apellido               Nombre  \\\n",
            "0            aramayo       luciano daniel   \n",
            "2           betancud       dulce victoria   \n",
            "3            cabrera       cynthia denise   \n",
            "4                cos  jaime daniel flavio   \n",
            "7   kropff achucarro           josé maría   \n",
            "8        marin perez   fernanda ernestina   \n",
            "9            montero                abril   \n",
            "10             nieto      zazali gabriela   \n",
            "11   pizarro vazzano       elisa agustina   \n",
            "13             seijo                 iván   \n",
            "14              soto              facundo   \n",
            "15         viceconti    alejandro alberto   \n",
            "16        wusinowski      milagros daiana   \n",
            "17            zapata     cristian nicolas   \n",
            "18            ayoroa                 juan   \n",
            "19        diez ramos         luis ernesto   \n",
            "20             gomez       jessica noelia   \n",
            "21             lópez      micaela stefani   \n",
            "24             acuña   guadalupe gianella   \n",
            "25              copa        vanesa jazmin   \n",
            "26         fernandez     agustina mariana   \n",
            "33             rolón             ezequiel   \n",
            "34           sanchís            ana lucía   \n",
            "35   tejerina mamani        leonel alexis   \n",
            "36           toconas   jonathan sebastian   \n",
            "37           zenteno       natalia selena   \n",
            "\n",
            "                                   Correo  \n",
            "0              lucianoaramayo06@gmail.com  \n",
            "2                 betancuddulce@gmail.com  \n",
            "3                 cabreracyn200@gmail.com  \n",
            "4             jaimedanielflavio@gmail.com  \n",
            "7               josemariakropff@gmail.com  \n",
            "8   fernandaernestinamarinperez@gmail.com  \n",
            "9               bixhokanasto666@gmail.com  \n",
            "10                   zazalita12@gmail.com  \n",
            "11              elisapizarro007@gmail.com  \n",
            "13                    seijoivan@gmail.com  \n",
            "14               sotofacundo657@gmail.com  \n",
            "15                    alerix449@gmail.com  \n",
            "16             miliwusinowski01@gmail.com  \n",
            "17            cristiannicolaszp@gmail.com  \n",
            "18            juanignacioayoroa@gmail.com  \n",
            "19                 luis08012016@gmail.com  \n",
            "20                  noelia-_13@hotmail.es  \n",
            "21                 micaloopez08@gmail.com  \n",
            "24                acunaguada448@gmail.com  \n",
            "25                 pazjazmin150@gmail.com  \n",
            "26                   agusmafer1@gmail.com  \n",
            "33                    ezedm803k@gmail.com  \n",
            "34                 flordeanis34@gmail.com  \n",
            "35             leoneltejerina52@gmail.com  \n",
            "36             toconasjonat1984@gmail.com  \n",
            "37                nataliazent02@gmail.com  \n",
            "\n",
            "Archivos de salida creados: solo_en_alumnos_filtrados.xlsx y solo_en_bienestar_filtrados.xlsx\n"
          ]
        }
      ]
    },
    {
      "cell_type": "code",
      "source": [
        "# Guardar los archivos filtrados (de ejemplo, usando 'solo_en_alumnos_filtrados.xlsx')\n",
        "alumnos_filtrados.to_excel('solo_en_alumnos_filtrados.xlsx', index=False)\n",
        "bienestar_filtrados.to_excel('solo_en_bienestar_filtrados.xlsx', index=False)\n",
        "\n",
        "# Descargar los archivos filtrados\n",
        "files.download('solo_en_alumnos_filtrados.xlsx')\n",
        "files.download('solo_en_bienestar_filtrados.xlsx')"
      ],
      "metadata": {
        "colab": {
          "base_uri": "https://localhost:8080/",
          "height": 17
        },
        "id": "QPhdOMIvZ5gf",
        "outputId": "b95dda01-507f-4f5d-b662-da258837c625"
      },
      "execution_count": 95,
      "outputs": [
        {
          "output_type": "display_data",
          "data": {
            "text/plain": [
              "<IPython.core.display.Javascript object>"
            ],
            "application/javascript": [
              "\n",
              "    async function download(id, filename, size) {\n",
              "      if (!google.colab.kernel.accessAllowed) {\n",
              "        return;\n",
              "      }\n",
              "      const div = document.createElement('div');\n",
              "      const label = document.createElement('label');\n",
              "      label.textContent = `Downloading \"${filename}\": `;\n",
              "      div.appendChild(label);\n",
              "      const progress = document.createElement('progress');\n",
              "      progress.max = size;\n",
              "      div.appendChild(progress);\n",
              "      document.body.appendChild(div);\n",
              "\n",
              "      const buffers = [];\n",
              "      let downloaded = 0;\n",
              "\n",
              "      const channel = await google.colab.kernel.comms.open(id);\n",
              "      // Send a message to notify the kernel that we're ready.\n",
              "      channel.send({})\n",
              "\n",
              "      for await (const message of channel.messages) {\n",
              "        // Send a message to notify the kernel that we're ready.\n",
              "        channel.send({})\n",
              "        if (message.buffers) {\n",
              "          for (const buffer of message.buffers) {\n",
              "            buffers.push(buffer);\n",
              "            downloaded += buffer.byteLength;\n",
              "            progress.value = downloaded;\n",
              "          }\n",
              "        }\n",
              "      }\n",
              "      const blob = new Blob(buffers, {type: 'application/binary'});\n",
              "      const a = document.createElement('a');\n",
              "      a.href = window.URL.createObjectURL(blob);\n",
              "      a.download = filename;\n",
              "      div.appendChild(a);\n",
              "      a.click();\n",
              "      div.remove();\n",
              "    }\n",
              "  "
            ]
          },
          "metadata": {}
        },
        {
          "output_type": "display_data",
          "data": {
            "text/plain": [
              "<IPython.core.display.Javascript object>"
            ],
            "application/javascript": [
              "download(\"download_7a5a9002-207b-435e-9588-e140d1a20100\", \"solo_en_alumnos_filtrados.xlsx\", 8062)"
            ]
          },
          "metadata": {}
        },
        {
          "output_type": "display_data",
          "data": {
            "text/plain": [
              "<IPython.core.display.Javascript object>"
            ],
            "application/javascript": [
              "\n",
              "    async function download(id, filename, size) {\n",
              "      if (!google.colab.kernel.accessAllowed) {\n",
              "        return;\n",
              "      }\n",
              "      const div = document.createElement('div');\n",
              "      const label = document.createElement('label');\n",
              "      label.textContent = `Downloading \"${filename}\": `;\n",
              "      div.appendChild(label);\n",
              "      const progress = document.createElement('progress');\n",
              "      progress.max = size;\n",
              "      div.appendChild(progress);\n",
              "      document.body.appendChild(div);\n",
              "\n",
              "      const buffers = [];\n",
              "      let downloaded = 0;\n",
              "\n",
              "      const channel = await google.colab.kernel.comms.open(id);\n",
              "      // Send a message to notify the kernel that we're ready.\n",
              "      channel.send({})\n",
              "\n",
              "      for await (const message of channel.messages) {\n",
              "        // Send a message to notify the kernel that we're ready.\n",
              "        channel.send({})\n",
              "        if (message.buffers) {\n",
              "          for (const buffer of message.buffers) {\n",
              "            buffers.push(buffer);\n",
              "            downloaded += buffer.byteLength;\n",
              "            progress.value = downloaded;\n",
              "          }\n",
              "        }\n",
              "      }\n",
              "      const blob = new Blob(buffers, {type: 'application/binary'});\n",
              "      const a = document.createElement('a');\n",
              "      a.href = window.URL.createObjectURL(blob);\n",
              "      a.download = filename;\n",
              "      div.appendChild(a);\n",
              "      a.click();\n",
              "      div.remove();\n",
              "    }\n",
              "  "
            ]
          },
          "metadata": {}
        },
        {
          "output_type": "display_data",
          "data": {
            "text/plain": [
              "<IPython.core.display.Javascript object>"
            ],
            "application/javascript": [
              "download(\"download_23f5628e-8d17-426a-ae04-4871e1436085\", \"solo_en_bienestar_filtrados.xlsx\", 5863)"
            ]
          },
          "metadata": {}
        }
      ]
    },
    {
      "cell_type": "markdown",
      "source": [
        "Hacemos una comparación entre nombre y apellido, luego de filtrar los correos"
      ],
      "metadata": {
        "id": "OQEP7Lgu_OCL"
      }
    },
    {
      "cell_type": "code",
      "source": [
        "# Eliminar duplicados en Nombres y Apellidos\n",
        "duplicados_alumnos = solo_en_alumnos[solo_en_alumnos.duplicated(subset=['Nombre', 'Apellido'], keep=False)]\n",
        "duplicados_bienestar = solo_en_bienestar[solo_en_bienestar.duplicated(subset=['Nombre', 'Apellido'], keep=False)]\n",
        "\n",
        "# Mostrar los duplicados encontrados\n",
        "print(\"Duplicados en Planilla_Alumnos (Nombre y Apellido):\")\n",
        "print(duplicados_alumnos)\n",
        "\n",
        "print(\"\\nDuplicados en Planilla_Bienestar (Nombre y Apellido):\")\n",
        "print(duplicados_bienestar)"
      ],
      "metadata": {
        "colab": {
          "base_uri": "https://localhost:8080/"
        },
        "id": "8VUb5Eio_VlP",
        "outputId": "ba0f41cd-5d8b-458e-90c0-36a388bc6b9e"
      },
      "execution_count": 50,
      "outputs": [
        {
          "output_type": "stream",
          "name": "stdout",
          "text": [
            "Duplicados en Planilla_Alumnos (Nombre y Apellido):\n",
            "Empty DataFrame\n",
            "Columns: [Apellido, Nombre, Correo]\n",
            "Index: []\n",
            "\n",
            "Duplicados en Planilla_Bienestar (Nombre y Apellido):\n",
            "Empty DataFrame\n",
            "Columns: [Apellido, Nombre, Correo]\n",
            "Index: []\n"
          ]
        }
      ]
    },
    {
      "cell_type": "code",
      "source": [
        "# Ver solo los Nombres y Apellidos duplicados\n",
        "duplicados_alumnos_nombres_apellidos = duplicados_alumnos[['Nombre', 'Apellido']]\n",
        "duplicados_bienestar_nombres_apellidos = duplicados_bienestar[['Nombre', 'Apellido']]\n",
        "\n",
        "print(\"Duplicados Nombres y Apellidos en Planilla_Alumnos:\")\n",
        "print(duplicados_alumnos_nombres_apellidos)\n",
        "\n",
        "print(\"\\nDuplicados Nombres y Apellidos en Planilla_Bienestar:\")\n",
        "print(duplicados_bienestar_nombres_apellidos)"
      ],
      "metadata": {
        "colab": {
          "base_uri": "https://localhost:8080/"
        },
        "id": "ryjfJ-IY_g-n",
        "outputId": "4f52c93e-47dc-45e7-b923-94f084841b85"
      },
      "execution_count": 51,
      "outputs": [
        {
          "output_type": "stream",
          "name": "stdout",
          "text": [
            "Duplicados Nombres y Apellidos en Planilla_Alumnos:\n",
            "Empty DataFrame\n",
            "Columns: [Nombre, Apellido]\n",
            "Index: []\n",
            "\n",
            "Duplicados Nombres y Apellidos en Planilla_Bienestar:\n",
            "Empty DataFrame\n",
            "Columns: [Nombre, Apellido]\n",
            "Index: []\n"
          ]
        }
      ]
    },
    {
      "cell_type": "markdown",
      "source": [
        "# Hacemos comparación con las columnas \"nombre\" y \"apellido\""
      ],
      "metadata": {
        "id": "0N67gvGD9BOO"
      }
    },
    {
      "cell_type": "code",
      "source": [
        "# 1. Alumnos que están en Planilla_Alumnos pero no en Planilla_Bienestar\n",
        "solo_en_alumnos = alumnos_df[\n",
        "    ~alumnos_df[['Apellido', 'Nombre']].apply(tuple, axis=1).isin(\n",
        "        bienestar_df[['Apellido', 'Nombre']].apply(tuple, axis=1)\n",
        "    )\n",
        "]"
      ],
      "metadata": {
        "id": "QTs0IqjowDpr"
      },
      "execution_count": 38,
      "outputs": []
    },
    {
      "cell_type": "code",
      "source": [
        "# 2. Alumnos que están en Planilla_Bienestar pero no en Planilla_Alumnos\n",
        "solo_en_bienestar = bienestar_df[\n",
        "    ~bienestar_df[['Apellido', 'Nombre']].apply(tuple, axis=1).isin(\n",
        "        alumnos_df[['Apellido', 'Nombre']].apply(tuple, axis=1)\n",
        "    )\n",
        "]"
      ],
      "metadata": {
        "id": "Ohhx1Vu_wIPy"
      },
      "execution_count": 39,
      "outputs": []
    },
    {
      "cell_type": "code",
      "source": [
        "# Mostrar los resultados\n",
        "print(\"\\nAlumnos que están en Planilla_Alumnos pero no en Planilla_Bienestar:\")\n",
        "print(solo_en_alumnos[['Apellido', 'Nombre', 'Correo']])\n",
        "\n",
        "print(\"\\nAlumnos que están en Planilla_Bienestar pero no en Planilla_Alumnos:\")\n",
        "print(solo_en_bienestar[['Apellido', 'Nombre', 'Correo']])"
      ],
      "metadata": {
        "id": "yzEFMPIcwNbg",
        "colab": {
          "base_uri": "https://localhost:8080/"
        },
        "outputId": "dc32a67c-bc49-406d-bcf9-3ba169cdebbf"
      },
      "execution_count": 40,
      "outputs": [
        {
          "output_type": "stream",
          "name": "stdout",
          "text": [
            "\n",
            "Alumnos que están en Planilla_Alumnos pero no en Planilla_Bienestar:\n",
            "                       Apellido       Nombre                       Correo\n",
            "0                        alaniz       yanina    yanina_natali@hotmail.com\n",
            "1    alvarez de olivera dorrego  juan martin        juanmanox06@gmail.com\n",
            "2                        alvira         fran         alvirafran@gmail.com\n",
            "3                  andrada bovo        belén       andrada.bovo@gmail.com\n",
            "4                      arequipa       leonel    leonelarequipa3@gmail.com\n",
            "..                          ...          ...                          ...\n",
            "260                        pare     valentin  orielvalentin2006@gmail.com\n",
            "262            pereira gonzalez        david    pereiradavid613@gmail.com\n",
            "264               sanchez mouzo       melina      melinabelensm@gmail.com\n",
            "268                      vargas        david       david.vrgs96@gmail.com\n",
            "270                      zárate        carla       carzarate006@gmail.com\n",
            "\n",
            "[199 rows x 3 columns]\n",
            "\n",
            "Alumnos que están en Planilla_Bienestar pero no en Planilla_Alumnos:\n",
            "            Apellido              Nombre                       Correo\n",
            "0            aguirre           ebe maité    ebemaiteaguirre@gmail.com\n",
            "1             alfaro        nahir yazmín      nahiralfaro33@gmail.com\n",
            "2             alvira           francisco         alvirafran@gmail.com\n",
            "3            aramayo      luciano daniel   lucianoaramayo06@gmail.com\n",
            "7     barroso pauluk     giuliana camila  giullibarroso2006@gmail.com\n",
            "..               ...                 ...                          ...\n",
            "188           schroh     cecilia naiquen      Schrohnaiquen@gmail.com\n",
            "190  tejerina mamani       leonel alexis   Leoneltejerina52@gmail.com\n",
            "191          toconas  jonathan sebastian   toconasjonat1984@gmail.com\n",
            "192           vargas        david braian       david.vrgs96@gmail.com\n",
            "194          zenteno      natalia selena      nataliazent02@gmail.com\n",
            "\n",
            "[123 rows x 3 columns]\n"
          ]
        }
      ]
    },
    {
      "cell_type": "code",
      "source": [
        "# Opcional: guardar los resultados en nuevos archivos de Excel\n",
        "solo_en_alumnos.to_excel(\"Solo_en_Alumnos.xlsx\", index=False)\n",
        "solo_en_bienestar.to_excel(\"Solo_en_Bienestar.xlsx\", index=False)"
      ],
      "metadata": {
        "id": "ym-fnKspwR4_"
      },
      "execution_count": 34,
      "outputs": []
    },
    {
      "cell_type": "code",
      "source": [
        "print(\"\\nLos resultados se guardaron como 'Solo_en_Alumnos.xlsx' y 'Solo_en_Bienestar.xlsx'. Descárgalos abajo.\")\n",
        "files.download(\"Solo_en_Alumnos.xlsx\")\n",
        "files.download(\"Solo_en_Bienestar.xlsx\")"
      ],
      "metadata": {
        "id": "QXmut4WCwUsf",
        "colab": {
          "base_uri": "https://localhost:8080/",
          "height": 52
        },
        "outputId": "010e9fc0-06a5-4763-ed0d-aac1e3666997"
      },
      "execution_count": 35,
      "outputs": [
        {
          "output_type": "stream",
          "name": "stdout",
          "text": [
            "\n",
            "Los resultados se guardaron como 'Solo_en_Alumnos.xlsx' y 'Solo_en_Bienestar.xlsx'. Descárgalos abajo.\n"
          ]
        },
        {
          "output_type": "display_data",
          "data": {
            "text/plain": [
              "<IPython.core.display.Javascript object>"
            ],
            "application/javascript": [
              "\n",
              "    async function download(id, filename, size) {\n",
              "      if (!google.colab.kernel.accessAllowed) {\n",
              "        return;\n",
              "      }\n",
              "      const div = document.createElement('div');\n",
              "      const label = document.createElement('label');\n",
              "      label.textContent = `Downloading \"${filename}\": `;\n",
              "      div.appendChild(label);\n",
              "      const progress = document.createElement('progress');\n",
              "      progress.max = size;\n",
              "      div.appendChild(progress);\n",
              "      document.body.appendChild(div);\n",
              "\n",
              "      const buffers = [];\n",
              "      let downloaded = 0;\n",
              "\n",
              "      const channel = await google.colab.kernel.comms.open(id);\n",
              "      // Send a message to notify the kernel that we're ready.\n",
              "      channel.send({})\n",
              "\n",
              "      for await (const message of channel.messages) {\n",
              "        // Send a message to notify the kernel that we're ready.\n",
              "        channel.send({})\n",
              "        if (message.buffers) {\n",
              "          for (const buffer of message.buffers) {\n",
              "            buffers.push(buffer);\n",
              "            downloaded += buffer.byteLength;\n",
              "            progress.value = downloaded;\n",
              "          }\n",
              "        }\n",
              "      }\n",
              "      const blob = new Blob(buffers, {type: 'application/binary'});\n",
              "      const a = document.createElement('a');\n",
              "      a.href = window.URL.createObjectURL(blob);\n",
              "      a.download = filename;\n",
              "      div.appendChild(a);\n",
              "      a.click();\n",
              "      div.remove();\n",
              "    }\n",
              "  "
            ]
          },
          "metadata": {}
        },
        {
          "output_type": "display_data",
          "data": {
            "text/plain": [
              "<IPython.core.display.Javascript object>"
            ],
            "application/javascript": [
              "download(\"download_a07edd39-a781-4c30-94c4-9e4bd0813f78\", \"Solo_en_Alumnos.xlsx\", 11699)"
            ]
          },
          "metadata": {}
        },
        {
          "output_type": "display_data",
          "data": {
            "text/plain": [
              "<IPython.core.display.Javascript object>"
            ],
            "application/javascript": [
              "\n",
              "    async function download(id, filename, size) {\n",
              "      if (!google.colab.kernel.accessAllowed) {\n",
              "        return;\n",
              "      }\n",
              "      const div = document.createElement('div');\n",
              "      const label = document.createElement('label');\n",
              "      label.textContent = `Downloading \"${filename}\": `;\n",
              "      div.appendChild(label);\n",
              "      const progress = document.createElement('progress');\n",
              "      progress.max = size;\n",
              "      div.appendChild(progress);\n",
              "      document.body.appendChild(div);\n",
              "\n",
              "      const buffers = [];\n",
              "      let downloaded = 0;\n",
              "\n",
              "      const channel = await google.colab.kernel.comms.open(id);\n",
              "      // Send a message to notify the kernel that we're ready.\n",
              "      channel.send({})\n",
              "\n",
              "      for await (const message of channel.messages) {\n",
              "        // Send a message to notify the kernel that we're ready.\n",
              "        channel.send({})\n",
              "        if (message.buffers) {\n",
              "          for (const buffer of message.buffers) {\n",
              "            buffers.push(buffer);\n",
              "            downloaded += buffer.byteLength;\n",
              "            progress.value = downloaded;\n",
              "          }\n",
              "        }\n",
              "      }\n",
              "      const blob = new Blob(buffers, {type: 'application/binary'});\n",
              "      const a = document.createElement('a');\n",
              "      a.href = window.URL.createObjectURL(blob);\n",
              "      a.download = filename;\n",
              "      div.appendChild(a);\n",
              "      a.click();\n",
              "      div.remove();\n",
              "    }\n",
              "  "
            ]
          },
          "metadata": {}
        },
        {
          "output_type": "display_data",
          "data": {
            "text/plain": [
              "<IPython.core.display.Javascript object>"
            ],
            "application/javascript": [
              "download(\"download_b0ddbe93-5930-4d26-868a-9b871cbaa316\", \"Solo_en_Bienestar.xlsx\", 9489)"
            ]
          },
          "metadata": {}
        }
      ]
    }
  ]
}